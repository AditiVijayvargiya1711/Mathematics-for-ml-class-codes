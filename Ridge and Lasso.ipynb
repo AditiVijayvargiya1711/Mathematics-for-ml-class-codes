{
 "cells": [
  {
   "cell_type": "code",
   "execution_count": 25,
   "id": "68c76329-9eaf-4b55-989d-47a3ee30401b",
   "metadata": {},
   "outputs": [
    {
     "data": {
      "text/plain": [
       "10"
      ]
     },
     "execution_count": 25,
     "metadata": {},
     "output_type": "execute_result"
    }
   ],
   "source": [
    "from sklearn.linear_model import LassoCV, RidgeCV,Ridge,Lasso\n",
    "from sklearn.datasets import load_diabetes\n",
    "from sklearn.model_selection import train_test_split\n",
    "\n",
    "# Load dataset\n",
    "X, y = load_diabetes(return_X_y=True)\n",
    "len(X[0])\n"
   ]
  },
  {
   "cell_type": "code",
   "execution_count": 26,
   "id": "c46ad06c-f67c-4992-b4ee-31cf6b88823a",
   "metadata": {},
   "outputs": [
    {
     "data": {
      "text/plain": [
       "'maxscore=0\\nfor i in range(100):\\n    X_train, X_test, y_train, y_test = train_test_split(X, y, test_size=0.2, random_state=i)\\n\\n    # LassoCV finds best alpha automatically\\n    lasso_cv = LassoCV(cv=5)\\n    lasso_cv.fit(X_train, y_train)\\n    if lasso_cv.score(X_test, y_test)> maxscore:\\n        maxscore=lasso_cv.score(X_test, y_test)\\n        best_alpha=lasso_cv.alpha_\\n        rndm_state=i\\n    \\nmaxscore,best_alpha,rndm_state'"
      ]
     },
     "execution_count": 26,
     "metadata": {},
     "output_type": "execute_result"
    }
   ],
   "source": [
    "'''maxscore=0\n",
    "for i in range(100):\n",
    "    X_train, X_test, y_train, y_test = train_test_split(X, y, test_size=0.2, random_state=i)\n",
    "\n",
    "    # LassoCV finds best alpha automatically\n",
    "    lasso_cv = LassoCV(cv=5)\n",
    "    lasso_cv.fit(X_train, y_train)\n",
    "    if lasso_cv.score(X_test, y_test)> maxscore:\n",
    "        maxscore=lasso_cv.score(X_test, y_test)\n",
    "        best_alpha=lasso_cv.alpha_\n",
    "        rndm_state=i\n",
    "    \n",
    "maxscore,best_alpha,rndm_state'''"
   ]
  },
  {
   "cell_type": "code",
   "execution_count": 27,
   "id": "6c0bf3ed-cd59-4d13-a1d9-73dcde47095e",
   "metadata": {},
   "outputs": [
    {
     "name": "stdout",
     "output_type": "stream",
     "text": [
      "Best alpha chosen: 0.07813983904476522\n",
      "Coefficients: [   0.         -168.16526738  554.13469401  311.62970543 -101.8628966\n",
      "   -0.         -235.13745855    0.          460.58571342   36.92205707]\n",
      "Score on test data: 0.4714642308237703\n"
     ]
    }
   ],
   "source": [
    "X_train, X_test, y_train, y_test = train_test_split(X, y, test_size=0.2, random_state=42)\n",
    "\n",
    "# LassoCV finds best alpha automatically\n",
    "lasso_cv = LassoCV(cv=5)\n",
    "lasso_cv.fit(X_train, y_train)\n",
    "y_pred = lasso_cv.predict(X_test)\n",
    "\n",
    "print(\"Best alpha chosen:\", lasso_cv.alpha_)\n",
    "print(\"Coefficients:\", lasso_cv.coef_)\n",
    "print(\"Score on test data:\", lasso_cv.score(X_test, y_test))"
   ]
  },
  {
   "cell_type": "code",
   "execution_count": 28,
   "id": "c331414e-c8d5-43c8-98c4-2d03ab1dc3c5",
   "metadata": {},
   "outputs": [
    {
     "name": "stdout",
     "output_type": "stream",
     "text": [
      "Best alpha chosen: 0.1\n",
      "Coefficients: [  42.85566976 -205.49431899  505.08903304  317.0932049  -108.50026183\n",
      "  -86.23673333 -190.36318008  151.70708637  392.28931896   79.9081772 ]\n",
      "Score on test data: 0.46085219464119254\n"
     ]
    }
   ],
   "source": [
    "X_train, X_test, y_train, y_test = train_test_split(X, y, test_size=0.2, random_state=42)\n",
    "\n",
    "# RidgeCV finds best alpha automatically\n",
    "ridge_cv = RidgeCV(cv=5)\n",
    "ridge_cv.fit(X_train, y_train)\n",
    "y_pred = ridge_cv.predict(X_test)\n",
    "\n",
    "print(\"Best alpha chosen:\", ridge_cv.alpha_)\n",
    "print(\"Coefficients:\", ridge_cv.coef_)\n",
    "print(\"Score on test data:\", ridge_cv.score(X_test, y_test))\n"
   ]
  },
  {
   "cell_type": "code",
   "execution_count": 29,
   "id": "727389c0-2971-4486-b89e-14eacda11623",
   "metadata": {},
   "outputs": [
    {
     "name": "stdout",
     "output_type": "stream",
     "text": [
      "Coefficients: [   0.         -168.16526738  554.13469401  311.62970543 -101.8628966\n",
      "   -0.         -235.13745855    0.          460.58571342   36.92205707]\n",
      "Score on test data: 0.4714642308237703\n"
     ]
    }
   ],
   "source": [
    "X_train, X_test, y_train, y_test = train_test_split(\n",
    "    X, y, test_size=0.2, random_state=42\n",
    ")\n",
    "\n",
    "# Lasso Regression (L1 regularization)\n",
    "lasso = Lasso(alpha=0.07813983904476522)   # alpha = regularization strength\n",
    "lasso.fit(X_train, y_train)\n",
    "\n",
    "# Predictions\n",
    "y_pred = lasso.predict(X_test)\n",
    "\n",
    "print(\"Coefficients:\", lasso.coef_)\n",
    "print(\"Score on test data:\", lasso.score(X_test, y_test))"
   ]
  },
  {
   "cell_type": "code",
   "execution_count": 30,
   "id": "41b13209-a8b9-49ff-bf77-cc063caf7b8a",
   "metadata": {},
   "outputs": [
    {
     "name": "stdout",
     "output_type": "stream",
     "text": [
      "Coefficients: [  42.85566976 -205.49431899  505.08903304  317.0932049  -108.50026183\n",
      "  -86.23673333 -190.36318008  151.70708637  392.28931896   79.9081772 ]\n",
      "Score on test data: 0.46085219464119254\n"
     ]
    }
   ],
   "source": [
    "X_train, X_test, y_train, y_test = train_test_split(\n",
    "    X, y, test_size=0.2, random_state=42\n",
    ")\n",
    "\n",
    "# Ridge Regression (L2 regularization)\n",
    "ridge = Ridge(alpha=0.1)   # alpha = regularization strength\n",
    "ridge.fit(X_train, y_train)\n",
    "\n",
    "# Predictions\n",
    "y_pred = ridge.predict(X_test)\n",
    "\n",
    "print(\"Coefficients:\", ridge.coef_)\n",
    "print(\"Score on test data:\", ridge.score(X_test, y_test))"
   ]
  },
  {
   "cell_type": "code",
   "execution_count": null,
   "id": "a0e10709-9475-4f35-ae5e-6b0d3cdb8c6e",
   "metadata": {},
   "outputs": [],
   "source": []
  },
  {
   "cell_type": "code",
   "execution_count": null,
   "id": "731d10c0-3ef9-4ec7-a23e-ca982033ebfd",
   "metadata": {},
   "outputs": [],
   "source": []
  }
 ],
 "metadata": {
  "kernelspec": {
   "display_name": "Python 3 (ipykernel)",
   "language": "python",
   "name": "python3"
  },
  "language_info": {
   "codemirror_mode": {
    "name": "ipython",
    "version": 3
   },
   "file_extension": ".py",
   "mimetype": "text/x-python",
   "name": "python",
   "nbconvert_exporter": "python",
   "pygments_lexer": "ipython3",
   "version": "3.12.7"
  }
 },
 "nbformat": 4,
 "nbformat_minor": 5
}
